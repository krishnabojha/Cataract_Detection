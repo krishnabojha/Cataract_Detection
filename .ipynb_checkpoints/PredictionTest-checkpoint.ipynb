{
 "cells": [
  {
   "cell_type": "code",
   "execution_count": null,
   "metadata": {},
   "outputs": [],
   "source": [
    "## detect eye\n",
    "import cv2 as cv\n",
    "import numpy as np\n",
    "eye_cascade=cv.CascadeClassifier('haarcascade_eye.xml')\n",
    "image=cv.imread('images/i11.jpg')\n",
    "gray_image=cv.cvtColor(image,cv.COLOR_BGR2GRAY)\n",
    "\n",
    "eye=eye_cascade.detectMultiScale(gray_image, 1.3, 5)\n",
    "for (ex,ey,ew,eh) in eye:\n",
    "    cv.rectangle(image,(ex,ey),(ex+ew,ey+eh),(0,255,0),2)\n",
    "    cv.namedWindow('image', cv.WINDOW_NORMAL)\n",
    "cv.imshow('image',image)\n",
    "cv.waitKey(0)\n",
    "cv.destroyAllWindows()\n"
   ]
  },
  {
   "cell_type": "code",
   "execution_count": null,
   "metadata": {},
   "outputs": [],
   "source": []
  },
  {
   "cell_type": "code",
   "execution_count": null,
   "metadata": {},
   "outputs": [],
   "source": [
    "## takeing picture of eye from live video\n",
    "import cv2\n",
    "vidcap = cv2.VideoCapture(0)\n",
    "success,image = vidcap.read()\n",
    "count = 0;\n",
    "# print (\"I am in success\")\n",
    "# cv2.imshow(\"image\",image)\n",
    "while success:\n",
    "   \n",
    "    cap_img=input()\n",
    "    if cap_img=='c':\n",
    "        \n",
    "        cv2.imwrite(\"frame%d.jpg\" % count, image)     # save frame as JPEG file\n",
    "        c='a'\n",
    "        print(\"krishna is here!!\")\n",
    "        \n",
    "    if cv2.waitKey(10) == 27:                     # exit if Escape is hit\n",
    "        break\n"
   ]
  },
  {
   "cell_type": "code",
   "execution_count": 1,
   "metadata": {},
   "outputs": [],
   "source": [
    "##Code of Every cell is independent to each other"
   ]
  },
  {
   "cell_type": "markdown",
   "metadata": {},
   "source": []
  },
  {
   "cell_type": "markdown",
   "metadata": {},
   "source": [
    "1\n"
   ]
  },
  {
   "cell_type": "code",
   "execution_count": 40,
   "metadata": {
    "scrolled": false
   },
   "outputs": [
    {
     "name": "stderr",
     "output_type": "stream",
     "text": [
      "D:\\ANACONDA\\lib\\site-packages\\keras\\engine\\saving.py:327: UserWarning: Error in loading the saved optimizer state. As a result, your model is starting with a freshly initialized optimizer.\n",
      "  warnings.warn('Error in loading the saved optimizer '\n"
     ]
    },
    {
     "name": "stdout",
     "output_type": "stream",
     "text": [
      "[[0.04526863]]\n",
      "cataract\n"
     ]
    }
   ],
   "source": [
    "## prediction of the cataract or normal eye\n",
    "## input: image of eye\n",
    "## output: probability\n",
    "## if probability >0.5 then eye is normal else cataract\n",
    "from keras.models import load_model\n",
    "from keras.preprocessing import image\n",
    "import matplotlib.pyplot as plt\n",
    "import numpy as np\n",
    "import os\n",
    "import cv2 as cv\n",
    "\n",
    "\n",
    "def load_image(img_path, show=False):\n",
    "\n",
    "    img = image.load_img(img_path, target_size=(64, 64))\n",
    "    img_tensor = image.img_to_array(img)                    # (height, width, channels)\n",
    "    img_tensor = np.expand_dims(img_tensor, axis=0)         # (1, height, width, channels), add a dimension because the model expects this shape: (batch_size, height, width, channels)\n",
    "    img_tensor /= 255.                                      # imshow expects values in the range [0, 1]\n",
    "\n",
    "    return img_tensor\n",
    "\n",
    "    # load model\n",
    "model = load_model(\"C_and_N.h5\")\n",
    "\n",
    "    # image path\n",
    "img_path = 'file01.jpg'   \n",
    "\n",
    "    # load a single image\n",
    "new_image = load_image(img_path)\n",
    "\n",
    "    # check prediction\n",
    "pred = model.predict(new_image)\n",
    "print(pred)\n",
    "if pred[0][0] >= 0.5:\n",
    "    prediction = 'normal'\n",
    "else:\n",
    "    prediction = 'cataract'\n",
    "print(prediction)\n",
    "\n",
    "eye_cascade=cv.CascadeClassifier('haarcascade_eye.xml')\n",
    "image=cv.imread(img_path)\n",
    "gray_image=cv.cvtColor(image,cv.COLOR_BGR2GRAY)\n",
    "\n",
    "eye=eye_cascade.detectMultiScale(gray_image, 1.3, 5)\n",
    "for (ex,ey,ew,eh) in eye:\n",
    "    cv.rectangle(image,(ex,ey),(ex+ew,ey+eh),(0,255,0),2)\n",
    "    cv.namedWindow('image', cv.WINDOW_NORMAL)\n",
    "cv.imshow('image',image)\n",
    "cv.waitKey(0)\n",
    "cv.destroyAllWindows()\n"
   ]
  },
  {
   "cell_type": "code",
   "execution_count": null,
   "metadata": {},
   "outputs": [],
   "source": []
  }
 ],
 "metadata": {
  "kernelspec": {
   "display_name": "Python 3",
   "language": "python",
   "name": "python3"
  },
  "language_info": {
   "codemirror_mode": {
    "name": "ipython",
    "version": 3
   },
   "file_extension": ".py",
   "mimetype": "text/x-python",
   "name": "python",
   "nbconvert_exporter": "python",
   "pygments_lexer": "ipython3",
   "version": "3.7.4"
  }
 },
 "nbformat": 4,
 "nbformat_minor": 2
}
